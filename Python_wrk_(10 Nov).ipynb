{
 "cells": [
  {
   "cell_type": "markdown",
   "id": "8c07ce59-abf8-421d-abb1-797782b2b94c",
   "metadata": {},
   "source": [
    "<font size=\"5\">***1. Matrix Multiplications***</font> "
   ]
  },
  {
   "cell_type": "markdown",
   "id": "624456ff-d7bf-4672-b825-f0deb8aca85f",
   "metadata": {},
   "source": [
    "-        [A]                  [B]\n",
    "  \n",
    "-     | 2 3 4 |             | 3 4 |\n",
    "-     | 3 4 5 |             | 6 7 |\n",
    "-     | 4 5 6 |(3x3)        | 1 2 |(3x2)"
   ]
  },
  {
   "cell_type": "markdown",
   "id": "95522123-2ef4-46cb-b73f-3cf9d63676cf",
   "metadata": {},
   "source": [
    "- Number of Columns in A is equal to Number of Rows in  B i.e (3 = 3).\n",
    "- Matrix multiplications is not possible when both are different then its give ERROR.\n",
    "- What is the Size or Dimension of matrix?\n",
    "- Rows of A and Columns of B is the size of matrix -->   (3x2)"
   ]
  },
  {
   "cell_type": "markdown",
   "id": "a92a540b-7769-4482-8e57-e8131ec7aa67",
   "metadata": {},
   "source": [
    "- **| {(2x3)+(3x6)+(4x1)}  {(2x4)+(3x7)+(4x2)} |**  \n",
    "- **| {(3x3)+(4x6)+(5x1)}  {(3x4)+(4x7)+(5x2)} |**  \n",
    "- **| {(4x3)+(5x6)+(6x1)}  {(4x4)+(5x7)+(6x2)} |**(3x2)"
   ]
  },
  {
   "cell_type": "markdown",
   "id": "bb4e4389-d9da-473e-b625-5982c3dc782e",
   "metadata": {},
   "source": [
    "- **| {06+18+04} {08+21+08} |**\n",
    "- **| {09+24+05} {12+28+10} |**\n",
    "- **| {12+30+06} {16+35+12} |**(3x2)"
   ]
  },
  {
   "cell_type": "markdown",
   "id": "cd373d8d-6c91-45db-8507-3594e17b3aaf",
   "metadata": {},
   "source": [
    "-      [C]\n",
    "- **| 28 37 |**\n",
    "- **| 38 50 |**\n",
    "- **| 48 63 |**(3x2)"
   ]
  },
  {
   "cell_type": "code",
   "execution_count": 1,
   "id": "81366e25-be4b-4a30-8f8a-f6235de774ec",
   "metadata": {},
   "outputs": [],
   "source": [
    "# Matrix multiplication (nxn)\n",
    "def matrix_mul(m1, m2):\n",
    "    row_m1 = len(m1)\n",
    "    col_m1 = len(m1[0])\n",
    "    row_m2 = len(m2)\n",
    "    col_m2 = len(m2[0])\n",
    "\n",
    "    if col_m1 != row_m2:\n",
    "        raise ValueError(\"Input-- Error\")\n",
    "        \n",
    "    m = [[0 for _ in range(col_m2)]for _ in range(row_m1)]\n",
    "\n",
    "    for a in range(row_m1):\n",
    "        for b in range(col_m2):\n",
    "            for c in range(col_m1):\n",
    "                m[a][b] += m1[a][c] * m2[c][b]\n",
    "                # print(f\"{m1[a][c]} x {m2[c][b]} = {m1[a][c] * m2[c][b]}\")\n",
    "    return m"
   ]
  },
  {
   "cell_type": "markdown",
   "id": "e649d268-cd40-4865-805d-5b4881742ad6",
   "metadata": {},
   "source": [
    "<font size = 5>**Solution:**</font>"
   ]
  },
  {
   "cell_type": "code",
   "execution_count": 2,
   "id": "faf2b683-c9ca-4ec8-a114-a1f3fc0e0504",
   "metadata": {},
   "outputs": [],
   "source": [
    "# Solutions code for M__multiplications\n",
    "import numpy as np\n",
    "def dot_prd(m1,m2):\n",
    "    return np.dot(m1,m2)"
   ]
  },
  {
   "cell_type": "code",
   "execution_count": 3,
   "id": "7f305f00-0c0c-4216-a5ec-58c63c928491",
   "metadata": {},
   "outputs": [
    {
     "data": {
      "text/plain": [
       "[[28, 37], [38, 50], [48, 63]]"
      ]
     },
     "execution_count": 3,
     "metadata": {},
     "output_type": "execute_result"
    }
   ],
   "source": [
    "m1 = [[2,3,4], [3,4,5], [4,5,6]]\n",
    "m2 = [[3,4], [6,7], [1,2]]\n",
    "matrix_mul(m1,m2)"
   ]
  },
  {
   "cell_type": "code",
   "execution_count": 4,
   "id": "206c7e73-e771-40c9-96c7-d607ebbf5960",
   "metadata": {},
   "outputs": [
    {
     "data": {
      "text/plain": [
       "array([[28, 37],\n",
       "       [38, 50],\n",
       "       [48, 63]])"
      ]
     },
     "execution_count": 4,
     "metadata": {},
     "output_type": "execute_result"
    }
   ],
   "source": [
    "dot_prd(m1,m2)"
   ]
  },
  {
   "cell_type": "code",
   "execution_count": 5,
   "id": "c9f5cbe0-88c4-40fb-b0f4-a1cd5a52d097",
   "metadata": {},
   "outputs": [
    {
     "data": {
      "text/plain": [
       "[[10, 14, 12], [8, 12, 12]]"
      ]
     },
     "execution_count": 5,
     "metadata": {},
     "output_type": "execute_result"
    }
   ],
   "source": [
    "x = [[1,3],[2,2]]\n",
    "y = [[1,2,3], [3,4,3]]\n",
    "matrix_mul(x,y)"
   ]
  },
  {
   "cell_type": "code",
   "execution_count": 6,
   "id": "708a4c3c-f279-4643-a957-cd2dbddfca99",
   "metadata": {},
   "outputs": [
    {
     "data": {
      "text/plain": [
       "array([[10, 14, 12],\n",
       "       [ 8, 12, 12]])"
      ]
     },
     "execution_count": 6,
     "metadata": {},
     "output_type": "execute_result"
    }
   ],
   "source": [
    "dot_prd(x,y)"
   ]
  },
  {
   "cell_type": "markdown",
   "id": "4c7daa34-8997-43da-be65-653301061ae2",
   "metadata": {},
   "source": [
    "<font size=5>***2. Add Digits Array***</font>"
   ]
  },
  {
   "cell_type": "code",
   "execution_count": 7,
   "id": "815313d9-0276-4226-bc5e-89a906fb6946",
   "metadata": {},
   "outputs": [],
   "source": [
    "def add_dgt(num1, num2):\n",
    "    i = len(num1) - 1\n",
    "    j = len(num2) - 1\n",
    "    sm = []\n",
    "    carry = 0\n",
    "    while i > -1 or j > -1:\n",
    "        if i >= 0:\n",
    "            n1 = num1[i]\n",
    "        else:\n",
    "            n1 = 0\n",
    "        if j >= 0:\n",
    "            n2 = num2[j]\n",
    "        else:\n",
    "            n2 = 0\n",
    "            \n",
    "        result = n1 + n2 + carry\n",
    "        # print(result)\n",
    "        sm.append(result % 10)\n",
    "        carry = result // 10\n",
    "        # print(carry)\n",
    "        i -= 1\n",
    "        j -= 1\n",
    "    if carry > 0:\n",
    "        sm.append(carry)\n",
    "    sm.reverse()\n",
    "    return sm"
   ]
  },
  {
   "cell_type": "code",
   "execution_count": 8,
   "id": "e0db7911-0fa0-4389-b280-be15537abd51",
   "metadata": {},
   "outputs": [
    {
     "data": {
      "text/plain": [
       "[1, 0, 4, 4]"
      ]
     },
     "execution_count": 8,
     "metadata": {},
     "output_type": "execute_result"
    }
   ],
   "source": [
    "q = [1, 5, 2]\n",
    "r = [8, 9, 2]\n",
    "add_dgt(q,r)"
   ]
  },
  {
   "cell_type": "code",
   "execution_count": 9,
   "id": "397ca1bc-f67e-49f1-b594-ff6d7bf89255",
   "metadata": {},
   "outputs": [
    {
     "data": {
      "text/plain": [
       "[1.0, 3.318999999999999]"
      ]
     },
     "execution_count": 9,
     "metadata": {},
     "output_type": "execute_result"
    }
   ],
   "source": [
    "a= [5.44]\n",
    "b = [7.879]\n",
    "add_dgt(a, b)"
   ]
  },
  {
   "cell_type": "markdown",
   "id": "4b99abc1-843c-4ab7-835e-190ae66c7c1c",
   "metadata": {},
   "source": [
    "<font size=5>***3. Add Digits Decimal***</font>"
   ]
  },
  {
   "cell_type": "code",
   "execution_count": 10,
   "id": "5b39271a-4d42-4aaa-a3c4-5aeb78223b0e",
   "metadata": {},
   "outputs": [],
   "source": [
    "def add_dgt_decimal(num1, num2):\n",
    "    i = len(num1) - 1\n",
    "    j = len(num2) - 1\n",
    "    sm = []\n",
    "\n",
    "    while i > -1 or j > -1:\n",
    "        if i >= 0:\n",
    "            n1 = num1[i]\n",
    "        else:\n",
    "            n1 = 0\n",
    "        if j >= 0:\n",
    "            n2 = num2[j]\n",
    "        else:\n",
    "            n2 = 0\n",
    "            \n",
    "        result = n1 + n2\n",
    "        \n",
    "        sm.append(result)\n",
    "        i -= 1\n",
    "        j -= 1\n",
    "    sm.reverse()\n",
    "    return sm"
   ]
  },
  {
   "cell_type": "code",
   "execution_count": 11,
   "id": "af13484b-2078-4b1e-90d1-6f8481355b2d",
   "metadata": {},
   "outputs": [
    {
     "data": {
      "text/plain": [
       "[13.33, 13.5, 12.18]"
      ]
     },
     "execution_count": 11,
     "metadata": {},
     "output_type": "execute_result"
    }
   ],
   "source": [
    "a= [5.44, 6.8, 6.78]\n",
    "b = [7.89, 6.7, 5.4]\n",
    "add_dgt_decimal(a, b)"
   ]
  },
  {
   "cell_type": "markdown",
   "id": "cc7779b5-5f38-42b5-a9c3-f6c499b0217d",
   "metadata": {},
   "source": [
    "<font size=5>**Author**</font>"
   ]
  },
  {
   "cell_type": "markdown",
   "id": "d0b94c1b-dcda-494f-b9d8-20d5c8dbe771",
   "metadata": {},
   "source": [
    "   <font size=4>***Prince Raj***</font>"
   ]
  }
 ],
 "metadata": {
  "kernelspec": {
   "display_name": "Python 3 (ipykernel)",
   "language": "python",
   "name": "python3"
  },
  "language_info": {
   "codemirror_mode": {
    "name": "ipython",
    "version": 3
   },
   "file_extension": ".py",
   "mimetype": "text/x-python",
   "name": "python",
   "nbconvert_exporter": "python",
   "pygments_lexer": "ipython3",
   "version": "3.12.3"
  }
 },
 "nbformat": 4,
 "nbformat_minor": 5
}
